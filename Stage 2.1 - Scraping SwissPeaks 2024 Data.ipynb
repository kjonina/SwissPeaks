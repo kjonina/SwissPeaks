{
 "cells": [
  {
   "cell_type": "markdown",
   "id": "752c9f98",
   "metadata": {},
   "source": [
    "# SwissPeaks Data\n",
    "\n",
    "In this code, Swiss Peaks website is scraped. The raw data is then saved to a folder with race and year. No cleaning is done.\n"
   ]
  },
  {
   "cell_type": "code",
   "execution_count": 2,
   "id": "addf9a56",
   "metadata": {},
   "outputs": [],
   "source": [
    "import requests\n",
    "import json\n",
    "import html\n",
    "import pandas as pd\n",
    "import time\n",
    "import re\n",
    "import unicodedata\n",
    "import datetime\n",
    "import random\n",
    "import numpy as np\n",
    "from datetime import timedelta\n",
    "\n",
    "year = 2024  # Update as needed\n",
    "\n",
    "# Start the timer\n",
    "start_time = time.time()\n",
    "\n",
    "year = '2024'\n",
    "\n",
    "delay_seconds = 15"
   ]
  },
  {
   "cell_type": "markdown",
   "id": "116bc7a0",
   "metadata": {},
   "source": [
    "## Scraping Swiss Peaks 2024data from the website"
   ]
  },
  {
   "cell_type": "code",
   "execution_count": 4,
   "id": "b8ec01c4",
   "metadata": {},
   "outputs": [
    {
     "name": "stdout",
     "output_type": "stream",
     "text": [
      "https://www.ultratiming.live/_next/data/XCGRnFC4BCmNQ4CpCn1B0/en/evenement/spt-2024/epreuve/360/resultats.json?eventSlug=spt-2024&trialSlug=360\n",
      "Data saved to 'SwissPeaks_2024.json'\n"
     ]
    }
   ],
   "source": [
    "# URL of the JSON file\n",
    "url = f'https://www.ultratiming.live/_next/data/XCGRnFC4BCmNQ4CpCn1B0/en/evenement/spt-{year}/epreuve/360/resultats.json?eventSlug=spt-2024&trialSlug=360'\n",
    "print(url)\n",
    "\n",
    "# Send a GET request to fetch the JSON data\n",
    "response = requests.get(url)\n",
    "\n",
    "# Check if the request was successful (status code 200)\n",
    "if response.status_code == 200:\n",
    "    # Parse the JSON data\n",
    "    data = response.json()\n",
    "\n",
    "    # Optionally, save the data to a JSON file\n",
    "    with open(f'Data/JSON/SwissPeaks360_{year}.json', 'w') as f:\n",
    "        json.dump(data, f, indent=4)\n",
    "\n",
    "    print(f\"Data saved to 'SwissPeaks360_{year}.json'\")\n",
    "else:\n",
    "    print(f\"Failed to retrieve data. Status code: {response.status_code}\")\n",
    "\n",
    "time.sleep(delay_seconds)"
   ]
  },
  {
   "cell_type": "code",
   "execution_count": 23,
   "id": "96ad6f30",
   "metadata": {},
   "outputs": [
    {
     "name": "stdout",
     "output_type": "stream",
     "text": [
      "  firstName     lastName                  slug nationality gender  \\\n",
      "0       Kim     COLLISON          collison-kim         GBR      M   \n",
      "1  Matthieu  BOURGUIGNON  bourguignon-matthieu         FRA      M   \n",
      "2     Jorge        GALVE           galve-jorge         ESP      M   \n",
      "3    Adrien      BARBIER        barbier-adrien         FRA      M   \n",
      "4     Iñigo      ORRADRE         orradre-inigo         ESP      M   \n",
      "\n",
      "                   birthDate distanceCarried participation_gender raceNumber  \\\n",
      "0  1980-05-07T14:06:37+02:00             360                    M          2   \n",
      "1  1979-03-26T14:07:05+01:00             360                    M         79   \n",
      "2  1985-03-13T14:06:38+01:00             360                    M          5   \n",
      "3  1989-02-01T09:51:16+01:00             360                    M         86   \n",
      "4  1978-08-09T14:07:31+02:00             360                    M        138   \n",
      "\n",
      "  category                   club  \n",
      "0      MH1            La Sportiva  \n",
      "1      MH1      TÊTE D'OR RUNNERS  \n",
      "2      SEH           2Kv Villanúa  \n",
      "3      SEH                         \n",
      "4      MH1  Aezkoa Kirol Elkartea  \n"
     ]
    }
   ],
   "source": [
    "with open(f'Data/JSON/SwissPeaks360_{year}.json', 'r', encoding='utf-8') as file:\n",
    "    json_data = json.load(file)\n",
    "\n",
    "    # Extract the participants list\n",
    "    participants = json_data['pageProps']['resultsResult']['hydra:member']\n",
    "\n",
    "    # Collect all extracted info in a list of dictionaries\n",
    "    extracted_list = []\n",
    "\n",
    "    for p in participants:\n",
    "        user = p['user']\n",
    "        \n",
    "        extracted_info = {\n",
    "            'firstName': user.get('firstName'),\n",
    "            'lastName': user.get('lastName'),\n",
    "            'slug': user.get('slug'),\n",
    "            'nationality': user.get('nationality'),\n",
    "            'gender': user.get('gender'),\n",
    "            'birthDate': user.get('birthDate'),\n",
    "            'distanceCarried': user.get('distanceCarried'),\n",
    "            'participation_gender': p.get('gender'),\n",
    "            'raceNumber': p.get('raceNumber'),\n",
    "            'category': p.get('category'),\n",
    "            'club': p.get('club')\n",
    "        }\n",
    "\n",
    "        extracted_list.append(extracted_info)\n",
    "\n",
    "    # Convert to DataFrame\n",
    "    df = pd.DataFrame(extracted_list)\n",
    "\n",
    "# Show the first few rows\n",
    "print(df.head())\n"
   ]
  },
  {
   "cell_type": "code",
   "execution_count": 33,
   "id": "cf3d10ee",
   "metadata": {},
   "outputs": [
    {
     "name": "stdout",
     "output_type": "stream",
     "text": [
      "  firstName     lastName                  slug nationality gender  \\\n",
      "0       Kim     COLLISON          collison-kim         GBR      M   \n",
      "1  Matthieu  BOURGUIGNON  bourguignon-matthieu         FRA      M   \n",
      "2     Jorge        GALVE           galve-jorge         ESP      M   \n",
      "3    Adrien      BARBIER        barbier-adrien         FRA      M   \n",
      "4     Iñigo      ORRADRE         orradre-inigo         ESP      M   \n",
      "\n",
      "                   birthDate distanceCarried participation_gender raceNumber  \\\n",
      "0  1980-05-07T14:06:37+02:00             360                    M          2   \n",
      "1  1979-03-26T14:07:05+01:00             360                    M         79   \n",
      "2  1985-03-13T14:06:38+01:00             360                    M          5   \n",
      "3  1989-02-01T09:51:16+01:00             360                    M         86   \n",
      "4  1978-08-09T14:07:31+02:00             360                    M        138   \n",
      "\n",
      "  category  ... Rang 58Tour de Don Temps 58Tour de Don  \\\n",
      "0      MH1  ...                  0                   0   \n",
      "1      MH1  ...                  0                   0   \n",
      "2      SEH  ...                  0                   0   \n",
      "3      SEH  ...                  0                   0   \n",
      "4      MH1  ...                  0                   0   \n",
      "\n",
      "  Rang 59Chalet de Blanc Sé  Temps 59Chalet de Blanc Sé Rang 60Taney  \\\n",
      "0                         1                      292255            0   \n",
      "1                         0                           0            0   \n",
      "2                         2                      341217            0   \n",
      "3                         3                      343504            0   \n",
      "4                         4                      351865            0   \n",
      "\n",
      "   Temps 60Taney  Rang 61Grand Pré  Temps 61Grand Pré  Rang 62Débarcadère  \\\n",
      "0              0                 0                  0                   0   \n",
      "1              0                 0                  0                   0   \n",
      "2              0                 0                  0                   0   \n",
      "3              0                 0                  0                   0   \n",
      "4              0                 0                  0                   0   \n",
      "\n",
      "   Temps 62Débarcadère  \n",
      "0                    0  \n",
      "1                    0  \n",
      "2                    0  \n",
      "3                    0  \n",
      "4                    0  \n",
      "\n",
      "[5 rows x 105 columns]\n"
     ]
    }
   ],
   "source": [
    "with open(f'Data/JSON/SwissPeaks360_{year}.json', 'r', encoding='utf-8') as file:\n",
    "    json_data = json.load(file)\n",
    "\n",
    "participants = json_data['pageProps']['resultsResult']['hydra:member']\n",
    "\n",
    "extracted_list = []\n",
    "\n",
    "for p in participants:\n",
    "    user = p['user']\n",
    "    \n",
    "    # Extract intermediate results with formatted values\n",
    "    intermediate_info = {}\n",
    "    for result in p.get('intermediateResults', []):\n",
    "        label = result.get('label')\n",
    "        value = result.get('value')\n",
    "        \n",
    "        # Convert numeric time values (in seconds) to hh:mm:ss\n",
    "#         if isinstance(value, (int, float)):\n",
    "#             value = str(timedelta(seconds=value))\n",
    "        \n",
    "        intermediate_info[label] = value\n",
    "\n",
    "    # Main participant info\n",
    "    extracted_info = {\n",
    "        'firstName': user.get('firstName'),\n",
    "        'lastName': user.get('lastName'),\n",
    "        'Slug': user.get('slug'),\n",
    "        'Nationality': user.get('nationality'),\n",
    "        'Gender': user.get('gender'),\n",
    "        'DOB': user.get('birthDate'),\n",
    "        'Race': user.get('distanceCarried'),\n",
    "        'participation_gender': p.get('gender'),\n",
    "        'Bib': p.get('raceNumber'),\n",
    "        'Age Category': p.get('category'),\n",
    "        'Club': p.get('club'),\n",
    "        'Status': p.get('status')\n",
    "    }\n",
    "\n",
    "    # Merge main info with intermediate results\n",
    "    extracted_info.update(intermediate_info)\n",
    "    extracted_list.append(extracted_info)\n",
    "\n",
    "# Convert to DataFrame\n",
    "df = pd.DataFrame(extracted_list)\n",
    "df['Year'] = year\n",
    "df['Race'] = 'SP' + df['Race'] \n",
    "\n",
    "df['Name'] = df['firstName'] + ' ' + df['lastName'] \n",
    "\n",
    "df['PK'] = df['Race'] +'_' + df['Year'] +'_' + df['Bib']    \n",
    "\n",
    "# Preview the result\n",
    "print( df[['PK','Bib','Name', 'Nationality', 'Gender','Age Categoty', 'DOB' 'Club', 'Status', 'Slug']].head())\n",
    "\n"
   ]
  },
  {
   "cell_type": "code",
   "execution_count": 34,
   "id": "e9ed63fb",
   "metadata": {
    "scrolled": true
   },
   "outputs": [
    {
     "name": "stdout",
     "output_type": "stream",
     "text": [
      "                                0\n",
      "firstName                     Kim\n",
      "lastName                 COLLISON\n",
      "slug                 collison-kim\n",
      "nationality                   GBR\n",
      "gender                          M\n",
      "...                           ...\n",
      "Temps 60Taney                   0\n",
      "Rang 61Grand Pré                0\n",
      "Temps 61Grand Pré               0\n",
      "Rang 62Débarcadère              0\n",
      "Temps 62Débarcadère             0\n",
      "\n",
      "[105 rows x 1 columns]\n"
     ]
    }
   ],
   "source": [
    "# Preview the result\n",
    "print(df[(df['firstName'] == 'Kim') & (df['lastName'] == 'COLLISON')].transpose())"
   ]
  },
  {
   "cell_type": "code",
   "execution_count": null,
   "id": "d4b66745",
   "metadata": {},
   "outputs": [],
   "source": [
    "# End the timer\n",
    "end_time = time.time()\n",
    "\n",
    "# Calculate and print execution time\n",
    "execution_time = end_time - start_time\n",
    "print(f\"Execution time: {execution_time:.6f} seconds\")"
   ]
  },
  {
   "cell_type": "code",
   "execution_count": null,
   "id": "8be8bced",
   "metadata": {},
   "outputs": [],
   "source": []
  }
 ],
 "metadata": {
  "kernelspec": {
   "display_name": "Python 3 (ipykernel)",
   "language": "python",
   "name": "python3"
  },
  "language_info": {
   "codemirror_mode": {
    "name": "ipython",
    "version": 3
   },
   "file_extension": ".py",
   "mimetype": "text/x-python",
   "name": "python",
   "nbconvert_exporter": "python",
   "pygments_lexer": "ipython3",
   "version": "3.9.13"
  }
 },
 "nbformat": 4,
 "nbformat_minor": 5
}
